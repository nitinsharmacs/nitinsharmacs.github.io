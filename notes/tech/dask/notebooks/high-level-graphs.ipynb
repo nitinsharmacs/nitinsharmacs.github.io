{
 "cells": [
  {
   "cell_type": "code",
   "execution_count": 21,
   "id": "5949016f-9a3a-4ebf-b1b2-a4fecf3da1e0",
   "metadata": {
    "execution": {
     "iopub.execute_input": "2024-10-23T10:14:32.985119Z",
     "iopub.status.busy": "2024-10-23T10:14:32.984694Z",
     "iopub.status.idle": "2024-10-23T10:14:32.989690Z",
     "shell.execute_reply": "2024-10-23T10:14:32.988806Z",
     "shell.execute_reply.started": "2024-10-23T10:14:32.985088Z"
    }
   },
   "outputs": [],
   "source": [
    "from dask.highlevelgraph import HighLevelGraph\n",
    "import dask\n",
    "from dask.threaded import get"
   ]
  },
  {
   "cell_type": "code",
   "execution_count": 22,
   "id": "8ab1ce4e-cb29-4e2d-b35c-cd0562cd09cd",
   "metadata": {
    "execution": {
     "iopub.execute_input": "2024-10-23T10:14:34.137436Z",
     "iopub.status.busy": "2024-10-23T10:14:34.136606Z",
     "iopub.status.idle": "2024-10-23T10:14:34.148543Z",
     "shell.execute_reply": "2024-10-23T10:14:34.147639Z",
     "shell.execute_reply.started": "2024-10-23T10:14:34.137403Z"
    }
   },
   "outputs": [
    {
     "data": {
      "text/plain": [
       "58"
      ]
     },
     "execution_count": 22,
     "metadata": {},
     "output_type": "execute_result"
    }
   ],
   "source": [
    "def add(x, y):\n",
    "  return x + y\n",
    "\n",
    "def square(x):\n",
    "  return x ** 2\n",
    "\n",
    "\n",
    "layers = {\n",
    "  'add': {\n",
    "    ('add', 0): (add, 1, 2),\n",
    "    ('add', 1): (add, 3, 4)\n",
    "  },\n",
    "  'square': {\n",
    "    ('square', 0): (square, ('add', 0)),\n",
    "    ('square', 1): (square, ('add', 1))\n",
    "  },\n",
    "  'agg': {\n",
    "    'agg': (add, ('square', 0), ('square', 1))}\n",
    "}\n",
    "\n",
    "dependencies = {\n",
    "  'add': set(),\n",
    "  'square': {'add'},\n",
    "  'agg': {'square'}\n",
    "}\n",
    "\n",
    "g = HighLevelGraph(layers, dependencies)\n",
    "\n",
    "get(g, 'agg')"
   ]
  },
  {
   "cell_type": "code",
   "execution_count": 4,
   "id": "61f7d04a-a735-4b06-9061-d3a68f62ec95",
   "metadata": {
    "execution": {
     "iopub.execute_input": "2024-10-23T10:09:03.509905Z",
     "iopub.status.busy": "2024-10-23T10:09:03.509457Z",
     "iopub.status.idle": "2024-10-23T10:09:03.514900Z",
     "shell.execute_reply": "2024-10-23T10:09:03.513746Z",
     "shell.execute_reply.started": "2024-10-23T10:09:03.509870Z"
    }
   },
   "outputs": [],
   "source": [
    "g = HighLevelGraph(layers, dependencies)"
   ]
  },
  {
   "cell_type": "code",
   "execution_count": 7,
   "id": "026c2389-efb8-4e1a-a42c-2c79f9f44a37",
   "metadata": {
    "execution": {
     "iopub.execute_input": "2024-10-23T10:09:17.845955Z",
     "iopub.status.busy": "2024-10-23T10:09:17.845515Z",
     "iopub.status.idle": "2024-10-23T10:09:17.894753Z",
     "shell.execute_reply": "2024-10-23T10:09:17.893775Z",
     "shell.execute_reply.started": "2024-10-23T10:09:17.845917Z"
    }
   },
   "outputs": [
    {
     "data": {
      "image/png": "[encoded data removed]",
      "text/plain": [
       "<IPython.core.display.Image object>"
      ]
     },
     "execution_count": 7,
     "metadata": {},
     "output_type": "execute_result"
    }
   ],
   "source": [
    "dask.visualize(g)"
   ]
  },
  {
   "cell_type": "code",
   "execution_count": 19,
   "id": "7814f7de-8744-48d1-97d2-b761a3f1db84",
   "metadata": {
    "execution": {
     "iopub.execute_input": "2024-10-23T10:13:23.499188Z",
     "iopub.status.busy": "2024-10-23T10:13:23.498825Z",
     "iopub.status.idle": "2024-10-23T10:13:23.595081Z",
     "shell.execute_reply": "2024-10-23T10:13:23.594408Z",
     "shell.execute_reply.started": "2024-10-23T10:13:23.499160Z"
    }
   },
   "outputs": [
    {
     "data": {
      "image/png": "[encoded data removed]",
      "text/plain": [
       "<IPython.core.display.Image object>"
      ]
     },
     "execution_count": 19,
     "metadata": {},
     "output_type": "execute_result"
    }
   ],
   "source": [
    "dask.visualize(graph)"
   ]
  }
 ],
 "metadata": {
  "kernelspec": {
   "display_name": "Python 3 (ipykernel)",
   "language": "python",
   "name": "python3"
  },
  "language_info": {
   "codemirror_mode": {
    "name": "ipython",
    "version": 3
   },
   "file_extension": ".py",
   "mimetype": "text/x-python",
   "name": "python",
   "nbconvert_exporter": "python",
   "pygments_lexer": "ipython3",
   "version": "3.10.14"
  }
 },
 "nbformat": 4,
 "nbformat_minor": 5
}
