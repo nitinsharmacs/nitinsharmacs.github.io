{
 "cells": [
  {
   "cell_type": "code",
   "execution_count": 4,
   "id": "2dcde152-9c6f-4172-add6-976686aee7c3",
   "metadata": {
    "execution": {
     "iopub.execute_input": "2024-10-20T13:18:49.779218Z",
     "iopub.status.busy": "2024-10-20T13:18:49.778512Z",
     "iopub.status.idle": "2024-10-20T13:18:49.783757Z",
     "shell.execute_reply": "2024-10-20T13:18:49.782761Z",
     "shell.execute_reply.started": "2024-10-20T13:18:49.779185Z"
    }
   },
   "outputs": [],
   "source": [
    "from dask.threaded import get"
   ]
  },
  {
   "cell_type": "code",
   "execution_count": 33,
   "id": "77bbc4c6-474d-49ec-b04c-551066bed550",
   "metadata": {
    "execution": {
     "iopub.execute_input": "2024-10-20T13:23:08.314468Z",
     "iopub.status.busy": "2024-10-20T13:23:08.313806Z",
     "iopub.status.idle": "2024-10-20T13:23:08.318559Z",
     "shell.execute_reply": "2024-10-20T13:23:08.317649Z",
     "shell.execute_reply.started": "2024-10-20T13:23:08.314437Z"
    }
   },
   "outputs": [],
   "source": [
    "def add(a, b):\n",
    "    return a + b\n",
    "\n",
    "\n",
    "dsk = {\n",
    "    'x': 3,\n",
    "    'y': 2,\n",
    "    'z': (add, 'x', 'y')\n",
    "}"
   ]
  },
  {
   "cell_type": "code",
   "execution_count": 34,
   "id": "901ecd59-4632-4ccf-82f7-3318e0ad5a76",
   "metadata": {
    "execution": {
     "iopub.execute_input": "2024-10-20T13:23:09.352844Z",
     "iopub.status.busy": "2024-10-20T13:23:09.352153Z",
     "iopub.status.idle": "2024-10-20T13:23:09.358263Z",
     "shell.execute_reply": "2024-10-20T13:23:09.357480Z",
     "shell.execute_reply.started": "2024-10-20T13:23:09.352813Z"
    }
   },
   "outputs": [
    {
     "data": {
      "text/plain": [
       "5"
      ]
     },
     "execution_count": 34,
     "metadata": {},
     "output_type": "execute_result"
    }
   ],
   "source": [
    "get(dsk, 'z')"
   ]
  },
  {
   "cell_type": "code",
   "execution_count": 35,
   "id": "8b3b2097-62d7-4659-8a5c-cdd43f8adb40",
   "metadata": {
    "execution": {
     "iopub.execute_input": "2024-10-20T13:23:14.135640Z",
     "iopub.status.busy": "2024-10-20T13:23:14.135219Z",
     "iopub.status.idle": "2024-10-20T13:23:14.140352Z",
     "shell.execute_reply": "2024-10-20T13:23:14.139506Z",
     "shell.execute_reply.started": "2024-10-20T13:23:14.135609Z"
    }
   },
   "outputs": [],
   "source": [
    "def add(a, b):\n",
    "    return len(a) + len(b)\n",
    "\n",
    "\n",
    "dsk = {\n",
    "    'x': 3,\n",
    "    'y': 2,\n",
    "    'z': (add, ['x'], ['y', 'y'])\n",
    "}"
   ]
  },
  {
   "cell_type": "code",
   "execution_count": 36,
   "id": "8d77b0b6-c143-4abe-8a8e-956e6ecc80a5",
   "metadata": {
    "execution": {
     "iopub.execute_input": "2024-10-20T13:23:15.508443Z",
     "iopub.status.busy": "2024-10-20T13:23:15.507796Z",
     "iopub.status.idle": "2024-10-20T13:23:15.515080Z",
     "shell.execute_reply": "2024-10-20T13:23:15.514044Z",
     "shell.execute_reply.started": "2024-10-20T13:23:15.508412Z"
    }
   },
   "outputs": [
    {
     "data": {
      "text/plain": [
       "3"
      ]
     },
     "execution_count": 36,
     "metadata": {},
     "output_type": "execute_result"
    }
   ],
   "source": [
    "get(dsk, 'z')"
   ]
  },
  {
   "cell_type": "code",
   "execution_count": 69,
   "id": "c327a49a-9dfb-4280-90a4-384b3af26151",
   "metadata": {
    "execution": {
     "iopub.execute_input": "2024-10-20T14:08:42.827848Z",
     "iopub.status.busy": "2024-10-20T14:08:42.827173Z",
     "iopub.status.idle": "2024-10-20T14:08:42.836205Z",
     "shell.execute_reply": "2024-10-20T14:08:42.835080Z",
     "shell.execute_reply.started": "2024-10-20T14:08:42.827816Z"
    }
   },
   "outputs": [
    {
     "data": {
      "text/plain": [
       "[6, 3]"
      ]
     },
     "execution_count": 69,
     "metadata": {},
     "output_type": "execute_result"
    }
   ],
   "source": [
    "def add(a, b):\n",
    "    return a + b\n",
    "\n",
    "\n",
    "dsk = {\n",
    "    'x': 1,\n",
    "    'y': 2,\n",
    "    'z': (add, 'x', 'y'),\n",
    "    'q': [(sum, ['x', 'y', 'z']), 'z']\n",
    "}\n",
    "\n",
    "get(dsk, 'q')"
   ]
  },
  {
   "cell_type": "markdown",
   "id": "16a32016-58af-472e-b516-98fffc27527c",
   "metadata": {},
   "source": [
    "## Custom Graphs"
   ]
  },
  {
   "cell_type": "code",
   "execution_count": 85,
   "id": "8b560746-6cde-45c0-8f48-124fe83f4029",
   "metadata": {
    "execution": {
     "iopub.execute_input": "2024-10-20T14:43:36.543395Z",
     "iopub.status.busy": "2024-10-20T14:43:36.542601Z",
     "iopub.status.idle": "2024-10-20T14:43:36.549988Z",
     "shell.execute_reply": "2024-10-20T14:43:36.549055Z",
     "shell.execute_reply.started": "2024-10-20T14:43:36.543360Z"
    }
   },
   "outputs": [],
   "source": [
    "def load(chunk_name):\n",
    "    print(f\"Loading chunk {chunk_name}\")\n",
    "    return f\"chunk --- --- {chunk_name}\"\n",
    "\n",
    "\n",
    "def sanitize(chunk):\n",
    "    print(f\"Sanitizing chunk {chunk}\")\n",
    "    return chunk\n",
    "\n",
    "\n",
    "def mean(chunks):\n",
    "    print(f\"mean {chunks}\")\n",
    "    return chunks[0]\n",
    "\n",
    "\n",
    "def save(result):\n",
    "    print(\"saving result\")\n",
    "\n",
    "dsk = {\n",
    "    'load-chunk-1': (load, 'chunk1.dat'),\n",
    "    'load-chunk-2': (load, 'chunk2.dat'),\n",
    "    'sanitize-1': (sanitize, 'load-chunk-1'),\n",
    "    'sanitize-2': (sanitize, 'load-chunk-2'),\n",
    "    'mean': (mean, [\"load-chunk-%d\" % i for i in [1, 2]]),\n",
    "    'save': (save, 'mean')\n",
    "}"
   ]
  },
  {
   "cell_type": "code",
   "execution_count": 110,
   "id": "90bf8742-c282-4f5c-9e3c-f1ca6e26f972",
   "metadata": {
    "execution": {
     "iopub.execute_input": "2024-10-20T14:44:36.839317Z",
     "iopub.status.busy": "2024-10-20T14:44:36.838619Z",
     "iopub.status.idle": "2024-10-20T14:44:40.836269Z",
     "shell.execute_reply": "2024-10-20T14:44:40.835190Z",
     "shell.execute_reply.started": "2024-10-20T14:44:36.839285Z"
    },
    "scrolled": true
   },
   "outputs": [
    {
     "data": {
      "text/html": [
       "<div>\n",
       "    <div style=\"width: 24px; height: 24px; background-color: #e1e1e1; border: 3px solid #9D9D9D; border-radius: 5px; position: absolute;\"> </div>\n",
       "    <div style=\"margin-left: 48px;\">\n",
       "        <h3 style=\"margin-bottom: 0px;\">Client</h3>\n",
       "        <p style=\"color: #9D9D9D; margin-bottom: 0px;\">Client-d418603c-8ef1-11ef-a143-acde48001122</p>\n",
       "        <table style=\"width: 100%; text-align: left;\">\n",
       "\n",
       "        <tr>\n",
       "        \n",
       "            <td style=\"text-align: left;\"><strong>Connection method:</strong> Cluster object</td>\n",
       "            <td style=\"text-align: left;\"><strong>Cluster type:</strong> distributed.LocalCluster</td>\n",
       "        \n",
       "        </tr>\n",
       "\n",
       "        \n",
       "            <tr>\n",
       "                <td style=\"text-align: left;\">\n",
       "                    <strong>Dashboard: </strong> <a href=\"http://127.0.0.1:8787/status\" target=\"_blank\">http://127.0.0.1:8787/status</a>\n",
       "                </td>\n",
       "                <td style=\"text-align: left;\"></td>\n",
       "            </tr>\n",
       "        \n",
       "\n",
       "        </table>\n",
       "\n",
       "        \n",
       "\n",
       "        \n",
       "            <details>\n",
       "            <summary style=\"margin-bottom: 20px;\"><h3 style=\"display: inline;\">Cluster Info</h3></summary>\n",
       "            <div class=\"jp-RenderedHTMLCommon jp-RenderedHTML jp-mod-trusted jp-OutputArea-output\">\n",
       "    <div style=\"width: 24px; height: 24px; background-color: #e1e1e1; border: 3px solid #9D9D9D; border-radius: 5px; position: absolute;\">\n",
       "    </div>\n",
       "    <div style=\"margin-left: 48px;\">\n",
       "        <h3 style=\"margin-bottom: 0px; margin-top: 0px;\">LocalCluster</h3>\n",
       "        <p style=\"color: #9D9D9D; margin-bottom: 0px;\">9e696e30</p>\n",
       "        <table style=\"width: 100%; text-align: left;\">\n",
       "            <tr>\n",
       "                <td style=\"text-align: left;\">\n",
       "                    <strong>Dashboard:</strong> <a href=\"http://127.0.0.1:8787/status\" target=\"_blank\">http://127.0.0.1:8787/status</a>\n",
       "                </td>\n",
       "                <td style=\"text-align: left;\">\n",
       "                    <strong>Workers:</strong> 2\n",
       "                </td>\n",
       "            </tr>\n",
       "            <tr>\n",
       "                <td style=\"text-align: left;\">\n",
       "                    <strong>Total threads:</strong> 12\n",
       "                </td>\n",
       "                <td style=\"text-align: left;\">\n",
       "                    <strong>Total memory:</strong> 16.00 GiB\n",
       "                </td>\n",
       "            </tr>\n",
       "            \n",
       "            <tr>\n",
       "    <td style=\"text-align: left;\"><strong>Status:</strong> running</td>\n",
       "    <td style=\"text-align: left;\"><strong>Using processes:</strong> True</td>\n",
       "</tr>\n",
       "\n",
       "            \n",
       "        </table>\n",
       "\n",
       "        <details>\n",
       "            <summary style=\"margin-bottom: 20px;\">\n",
       "                <h3 style=\"display: inline;\">Scheduler Info</h3>\n",
       "            </summary>\n",
       "\n",
       "            <div style=\"\">\n",
       "    <div>\n",
       "        <div style=\"width: 24px; height: 24px; background-color: #FFF7E5; border: 3px solid #FF6132; border-radius: 5px; position: absolute;\"> </div>\n",
       "        <div style=\"margin-left: 48px;\">\n",
       "            <h3 style=\"margin-bottom: 0px;\">Scheduler</h3>\n",
       "            <p style=\"color: #9D9D9D; margin-bottom: 0px;\">Scheduler-8f432180-0dfb-4565-ac7a-8d40f0b6a709</p>\n",
       "            <table style=\"width: 100%; text-align: left;\">\n",
       "                <tr>\n",
       "                    <td style=\"text-align: left;\">\n",
       "                        <strong>Comm:</strong> tcp://127.0.0.1:59079\n",
       "                    </td>\n",
       "                    <td style=\"text-align: left;\">\n",
       "                        <strong>Workers:</strong> 2\n",
       "                    </td>\n",
       "                </tr>\n",
       "                <tr>\n",
       "                    <td style=\"text-align: left;\">\n",
       "                        <strong>Dashboard:</strong> <a href=\"http://127.0.0.1:8787/status\" target=\"_blank\">http://127.0.0.1:8787/status</a>\n",
       "                    </td>\n",
       "                    <td style=\"text-align: left;\">\n",
       "                        <strong>Total threads:</strong> 12\n",
       "                    </td>\n",
       "                </tr>\n",
       "                <tr>\n",
       "                    <td style=\"text-align: left;\">\n",
       "                        <strong>Started:</strong> Just now\n",
       "                    </td>\n",
       "                    <td style=\"text-align: left;\">\n",
       "                        <strong>Total memory:</strong> 16.00 GiB\n",
       "                    </td>\n",
       "                </tr>\n",
       "            </table>\n",
       "        </div>\n",
       "    </div>\n",
       "\n",
       "    <details style=\"margin-left: 48px;\">\n",
       "        <summary style=\"margin-bottom: 20px;\">\n",
       "            <h3 style=\"display: inline;\">Workers</h3>\n",
       "        </summary>\n",
       "\n",
       "        \n",
       "        <div style=\"margin-bottom: 20px;\">\n",
       "            <div style=\"width: 24px; height: 24px; background-color: #DBF5FF; border: 3px solid #4CC9FF; border-radius: 5px; position: absolute;\"> </div>\n",
       "            <div style=\"margin-left: 48px;\">\n",
       "            <details>\n",
       "                <summary>\n",
       "                    <h4 style=\"margin-bottom: 0px; display: inline;\">Worker: 0</h4>\n",
       "                </summary>\n",
       "                <table style=\"width: 100%; text-align: left;\">\n",
       "                    <tr>\n",
       "                        <td style=\"text-align: left;\">\n",
       "                            <strong>Comm: </strong> tcp://127.0.0.1:59086\n",
       "                        </td>\n",
       "                        <td style=\"text-align: left;\">\n",
       "                            <strong>Total threads: </strong> 6\n",
       "                        </td>\n",
       "                    </tr>\n",
       "                    <tr>\n",
       "                        <td style=\"text-align: left;\">\n",
       "                            <strong>Dashboard: </strong> <a href=\"http://127.0.0.1:59090/status\" target=\"_blank\">http://127.0.0.1:59090/status</a>\n",
       "                        </td>\n",
       "                        <td style=\"text-align: left;\">\n",
       "                            <strong>Memory: </strong> 8.00 GiB\n",
       "                        </td>\n",
       "                    </tr>\n",
       "                    <tr>\n",
       "                        <td style=\"text-align: left;\">\n",
       "                            <strong>Nanny: </strong> tcp://127.0.0.1:59082\n",
       "                        </td>\n",
       "                        <td style=\"text-align: left;\"></td>\n",
       "                    </tr>\n",
       "                    <tr>\n",
       "                        <td colspan=\"2\" style=\"text-align: left;\">\n",
       "                            <strong>Local directory: </strong> /var/folders/7y/91xrb3bs5g96r0pvlvq04yx00000gn/T/dask-scratch-space/worker-kpcc0yu9\n",
       "                        </td>\n",
       "                    </tr>\n",
       "\n",
       "                    \n",
       "\n",
       "                    \n",
       "\n",
       "                </table>\n",
       "            </details>\n",
       "            </div>\n",
       "        </div>\n",
       "        \n",
       "        <div style=\"margin-bottom: 20px;\">\n",
       "            <div style=\"width: 24px; height: 24px; background-color: #DBF5FF; border: 3px solid #4CC9FF; border-radius: 5px; position: absolute;\"> </div>\n",
       "            <div style=\"margin-left: 48px;\">\n",
       "            <details>\n",
       "                <summary>\n",
       "                    <h4 style=\"margin-bottom: 0px; display: inline;\">Worker: 1</h4>\n",
       "                </summary>\n",
       "                <table style=\"width: 100%; text-align: left;\">\n",
       "                    <tr>\n",
       "                        <td style=\"text-align: left;\">\n",
       "                            <strong>Comm: </strong> tcp://127.0.0.1:59087\n",
       "                        </td>\n",
       "                        <td style=\"text-align: left;\">\n",
       "                            <strong>Total threads: </strong> 6\n",
       "                        </td>\n",
       "                    </tr>\n",
       "                    <tr>\n",
       "                        <td style=\"text-align: left;\">\n",
       "                            <strong>Dashboard: </strong> <a href=\"http://127.0.0.1:59088/status\" target=\"_blank\">http://127.0.0.1:59088/status</a>\n",
       "                        </td>\n",
       "                        <td style=\"text-align: left;\">\n",
       "                            <strong>Memory: </strong> 8.00 GiB\n",
       "                        </td>\n",
       "                    </tr>\n",
       "                    <tr>\n",
       "                        <td style=\"text-align: left;\">\n",
       "                            <strong>Nanny: </strong> tcp://127.0.0.1:59083\n",
       "                        </td>\n",
       "                        <td style=\"text-align: left;\"></td>\n",
       "                    </tr>\n",
       "                    <tr>\n",
       "                        <td colspan=\"2\" style=\"text-align: left;\">\n",
       "                            <strong>Local directory: </strong> /var/folders/7y/91xrb3bs5g96r0pvlvq04yx00000gn/T/dask-scratch-space/worker-lmiace3z\n",
       "                        </td>\n",
       "                    </tr>\n",
       "\n",
       "                    \n",
       "\n",
       "                    \n",
       "\n",
       "                </table>\n",
       "            </details>\n",
       "            </div>\n",
       "        </div>\n",
       "        \n",
       "\n",
       "    </details>\n",
       "</div>\n",
       "\n",
       "        </details>\n",
       "    </div>\n",
       "</div>\n",
       "            </details>\n",
       "        \n",
       "\n",
       "    </div>\n",
       "</div>"
      ],
      "text/plain": [
       "<Client: 'tcp://127.0.0.1:59079' processes=2 threads=12, memory=16.00 GiB>"
      ]
     },
     "execution_count": 110,
     "metadata": {},
     "output_type": "execute_result"
    },
    {
     "name": "stderr",
     "output_type": "stream",
     "text": [
      "2024-10-21 08:13:44,417 - distributed.scheduler - WARNING - Worker failed to heartbeat for 3656s; attempting restart: <WorkerState 'tcp://127.0.0.1:59086', name: 0, status: running, memory: 0, processing: 0>\n",
      "2024-10-21 08:13:44,622 - distributed.scheduler - WARNING - Worker failed to heartbeat for 3656s; attempting restart: <WorkerState 'tcp://127.0.0.1:59087', name: 1, status: running, memory: 0, processing: 0>\n",
      "2024-10-21 08:13:45,460 - distributed.nanny - WARNING - Restarting worker\n",
      "2024-10-21 08:13:45,475 - distributed.nanny - WARNING - Restarting worker\n",
      "2024-10-21 10:37:54,647 - distributed.nanny - WARNING - Restarting worker\n",
      "2024-10-21 10:37:54,656 - distributed.nanny - WARNING - Restarting worker\n",
      "2024-10-21 10:37:54,734 - distributed.nanny - WARNING - Restarting worker\n",
      "2024-10-21 10:37:54,856 - distributed.nanny - WARNING - Restarting worker\n",
      "2024-10-21 10:37:54,860 - distributed.nanny - WARNING - Restarting worker\n",
      "2024-10-21 10:37:55,186 - distributed.nanny - WARNING - Restarting worker\n",
      "2024-10-21 10:37:55,189 - distributed.nanny - WARNING - Restarting worker\n",
      "2024-10-21 10:37:56,213 - distributed.nanny - WARNING - Restarting worker\n",
      "2024-10-21 10:37:56,217 - distributed.nanny - WARNING - Restarting worker\n"
     ]
    }
   ],
   "source": [
    "from dask.distributed import Client\n",
    "client = Client(n_workers=2)\n",
    "client"
   ]
  },
  {
   "cell_type": "code",
   "execution_count": 137,
   "id": "e69bb5cf-0e23-43a2-b7bd-12f6f049147e",
   "metadata": {
    "execution": {
     "iopub.execute_input": "2024-10-20T14:51:08.641291Z",
     "iopub.status.busy": "2024-10-20T14:51:08.640523Z",
     "iopub.status.idle": "2024-10-20T14:51:08.667905Z",
     "shell.execute_reply": "2024-10-20T14:51:08.667198Z",
     "shell.execute_reply.started": "2024-10-20T14:51:08.641260Z"
    }
   },
   "outputs": [],
   "source": [
    "client.get(dsk, 'save')"
   ]
  },
  {
   "cell_type": "code",
   "execution_count": null,
   "id": "54639f7d-fd7a-45fe-ba86-6d1b7e4c2482",
   "metadata": {},
   "outputs": [],
   "source": []
  },
  {
   "cell_type": "code",
   "execution_count": null,
   "id": "a9f326e6-a325-4a86-ada5-cf6348040cfe",
   "metadata": {},
   "outputs": [],
   "source": []
  }
 ],
 "metadata": {
  "kernelspec": {
   "display_name": "Python 3 (ipykernel)",
   "language": "python",
   "name": "python3"
  },
  "language_info": {
   "codemirror_mode": {
    "name": "ipython",
    "version": 3
   },
   "file_extension": ".py",
   "mimetype": "text/x-python",
   "name": "python",
   "nbconvert_exporter": "python",
   "pygments_lexer": "ipython3",
   "version": "3.10.14"
  }
 },
 "nbformat": 4,
 "nbformat_minor": 5
}
