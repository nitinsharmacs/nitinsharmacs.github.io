{
 "cells": [
  {
   "cell_type": "code",
   "execution_count": 1,
   "id": "b7863e74-1e64-49db-a00b-ba03a93d1d12",
   "metadata": {
    "execution": {
     "iopub.execute_input": "2024-10-15T17:46:11.063142Z",
     "iopub.status.busy": "2024-10-15T17:46:11.062738Z",
     "iopub.status.idle": "2024-10-15T17:46:11.945338Z",
     "shell.execute_reply": "2024-10-15T17:46:11.944611Z",
     "shell.execute_reply.started": "2024-10-15T17:46:11.063110Z"
    }
   },
   "outputs": [],
   "source": [
    "import dask.array as da\n",
    "import numpy as np"
   ]
  },
  {
   "cell_type": "markdown",
   "id": "295d5662-0137-4b64-8ff2-8b038470d2de",
   "metadata": {},
   "source": [
    "## Dask array as graph"
   ]
  },
  {
   "cell_type": "code",
   "execution_count": 3,
   "id": "50ecc604-91df-4a19-aea1-f63bda914f72",
   "metadata": {
    "execution": {
     "iopub.execute_input": "2024-10-15T17:46:46.597330Z",
     "iopub.status.busy": "2024-10-15T17:46:46.596907Z",
     "iopub.status.idle": "2024-10-15T17:46:46.614162Z",
     "shell.execute_reply": "2024-10-15T17:46:46.613184Z",
     "shell.execute_reply.started": "2024-10-15T17:46:46.597296Z"
    }
   },
   "outputs": [
    {
     "data": {
      "text/html": [
       "<table>\n",
       "    <tr>\n",
       "        <td>\n",
       "            <table style=\"border-collapse: collapse;\">\n",
       "                <thead>\n",
       "                    <tr>\n",
       "                        <td> </td>\n",
       "                        <th> Array </th>\n",
       "                        <th> Chunk </th>\n",
       "                    </tr>\n",
       "                </thead>\n",
       "                <tbody>\n",
       "                    \n",
       "                    <tr>\n",
       "                        <th> Bytes </th>\n",
       "                        <td> 120 B </td>\n",
       "                        <td> 40 B </td>\n",
       "                    </tr>\n",
       "                    \n",
       "                    <tr>\n",
       "                        <th> Shape </th>\n",
       "                        <td> (15,) </td>\n",
       "                        <td> (5,) </td>\n",
       "                    </tr>\n",
       "                    <tr>\n",
       "                        <th> Dask graph </th>\n",
       "                        <td colspan=\"2\"> 3 chunks in 1 graph layer </td>\n",
       "                    </tr>\n",
       "                    <tr>\n",
       "                        <th> Data type </th>\n",
       "                        <td colspan=\"2\"> int64 numpy.ndarray </td>\n",
       "                    </tr>\n",
       "                </tbody>\n",
       "            </table>\n",
       "        </td>\n",
       "        <td>\n",
       "        <svg width=\"170\" height=\"86\" style=\"stroke:rgb(0,0,0);stroke-width:1\" >\n",
       "\n",
       "  <!-- Horizontal lines -->\n",
       "  <line x1=\"0\" y1=\"0\" x2=\"120\" y2=\"0\" style=\"stroke-width:2\" />\n",
       "  <line x1=\"0\" y1=\"36\" x2=\"120\" y2=\"36\" style=\"stroke-width:2\" />\n",
       "\n",
       "  <!-- Vertical lines -->\n",
       "  <line x1=\"0\" y1=\"0\" x2=\"0\" y2=\"36\" style=\"stroke-width:2\" />\n",
       "  <line x1=\"40\" y1=\"0\" x2=\"40\" y2=\"36\" />\n",
       "  <line x1=\"80\" y1=\"0\" x2=\"80\" y2=\"36\" />\n",
       "  <line x1=\"120\" y1=\"0\" x2=\"120\" y2=\"36\" style=\"stroke-width:2\" />\n",
       "\n",
       "  <!-- Colored Rectangle -->\n",
       "  <polygon points=\"0.0,0.0 120.0,0.0 120.0,36.24782989210401 0.0,36.24782989210401\" style=\"fill:#ECB172A0;stroke-width:0\"/>\n",
       "\n",
       "  <!-- Text -->\n",
       "  <text x=\"60.000000\" y=\"56.247830\" font-size=\"1.0rem\" font-weight=\"100\" text-anchor=\"middle\" >15</text>\n",
       "  <text x=\"140.000000\" y=\"18.123915\" font-size=\"1.0rem\" font-weight=\"100\" text-anchor=\"middle\" transform=\"rotate(0,140.000000,18.123915)\">1</text>\n",
       "</svg>\n",
       "        </td>\n",
       "    </tr>\n",
       "</table>"
      ],
      "text/plain": [
       "dask.array<arange, shape=(15,), dtype=int64, chunksize=(5,), chunktype=numpy.ndarray>"
      ]
     },
     "execution_count": 3,
     "metadata": {},
     "output_type": "execute_result"
    }
   ],
   "source": [
    "a = da.arange(15, chunks=(5,))\n",
    "a"
   ]
  },
  {
   "cell_type": "code",
   "execution_count": 8,
   "id": "3e22533a-1a25-406c-9e67-8ca7abe40f71",
   "metadata": {
    "execution": {
     "iopub.execute_input": "2024-10-15T17:48:47.415671Z",
     "iopub.status.busy": "2024-10-15T17:48:47.414959Z",
     "iopub.status.idle": "2024-10-15T17:48:47.429362Z",
     "shell.execute_reply": "2024-10-15T17:48:47.428456Z",
     "shell.execute_reply.started": "2024-10-15T17:48:47.415639Z"
    }
   },
   "outputs": [
    {
     "data": {
      "text/html": [
       "<div>\n",
       "    <div>\n",
       "        <div style=\"width: 52px; height: 52px; position: absolute;\">\n",
       "            <svg width=\"76\" height=\"71\" viewBox=\"0 0 76 71\" fill=\"none\" xmlns=\"http://www.w3.org/2000/svg\">\n",
       "                <circle cx=\"61.5\" cy=\"36.5\" r=\"13.5\" style=\"stroke: var(--jp-ui-font-color2, #1D1D1D); fill: var(--jp-layout-color1, #F2F2F2);\" stroke-width=\"2\"/>\n",
       "                <circle cx=\"14.5\" cy=\"14.5\" r=\"13.5\" style=\"stroke: var(--jp-ui-font-color2, #1D1D1D); fill: var(--jp-layout-color1, #F2F2F2);\" stroke-width=\"2\"/>\n",
       "                <circle cx=\"14.5\" cy=\"56.5\" r=\"13.5\" style=\"stroke: var(--jp-ui-font-color2, #1D1D1D); fill: var(--jp-layout-color1, #F2F2F2);\" stroke-width=\"2\"/>\n",
       "                <path d=\"M28 16L30.5 16C33.2614 16 35.5 18.2386 35.5 21L35.5 32.0001C35.5 34.7615 37.7386 37.0001 40.5 37.0001L43 37.0001\" style=\"stroke: var(--jp-ui-font-color2, #1D1D1D);\" stroke-width=\"1.5\"/>\n",
       "                <path d=\"M40.5 37L40.5 37.75L40.5 37.75L40.5 37ZM35.5 42L36.25 42L35.5 42ZM35.5 52L34.75 52L35.5 52ZM30.5 57L30.5 57.75L30.5 57ZM41.5001 36.25L40.5 36.25L40.5 37.75L41.5001 37.75L41.5001 36.25ZM34.75 42L34.75 52L36.25 52L36.25 42L34.75 42ZM30.5 56.25L28.0001 56.25L28.0001 57.75L30.5 57.75L30.5 56.25ZM34.75 52C34.75 54.3472 32.8472 56.25 30.5 56.25L30.5 57.75C33.6756 57.75 36.25 55.1756 36.25 52L34.75 52ZM40.5 36.25C37.3244 36.25 34.75 38.8243 34.75 42L36.25 42C36.25 39.6528 38.1528 37.75 40.5 37.75L40.5 36.25Z\" style=\"fill: var(--jp-ui-font-color2, #1D1D1D);\"/>\n",
       "                <circle cx=\"28\" cy=\"16\" r=\"2.25\" fill=\"#E5E5E5\" style=\"stroke: var(--jp-ui-font-color2, #1D1D1D);\" stroke-width=\"1.5\"/>\n",
       "                <circle cx=\"28\" cy=\"57\" r=\"2.25\" fill=\"#E5E5E5\" style=\"stroke: var(--jp-ui-font-color2, #1D1D1D);\" stroke-width=\"1.5\"/>\n",
       "                <path d=\"M45.25 36.567C45.5833 36.7594 45.5833 37.2406 45.25 37.433L42.25 39.1651C41.9167 39.3575 41.5 39.117 41.5 38.7321V35.2679C41.5 34.883 41.9167 34.6425 42.25 34.8349L45.25 36.567Z\" style=\"fill: var(--jp-ui-font-color2, #1D1D1D);\"/>\n",
       "            </svg>\n",
       "        </div>\n",
       "        <div style=\"margin-left: 64px;\">\n",
       "            <h3 style=\"margin-bottom: 0px;\">HighLevelGraph</h3>\n",
       "            <p style=\"color: var(--jp-ui-font-color2, #5D5851); margin-bottom:0px;\">\n",
       "                HighLevelGraph with 1 layers and 3 keys from all layers.\n",
       "            </p>\n",
       "            \n",
       "            <div style=\"\">\n",
       "    <svg width=\"24\" height=\"24\" viewBox=\"0 0 32 32\" fill=\"none\" xmlns=\"http://www.w3.org/2000/svg\" style=\"position: absolute;\">\n",
       "        \n",
       "        <circle cx=\"16\" cy=\"16\" r=\"14\" fill=\"#8F8F8F\" style=\"stroke: var(--jp-ui-font-color2, #1D1D1D);\" stroke-width=\"2\"/>\n",
       "        \n",
       "    </svg>\n",
       "\n",
       "    <details style=\"margin-left: 32px;\">\n",
       "        <summary style=\"margin-bottom: 10px; margin-top: 10px;\">\n",
       "            <h4 style=\"display: inline;\">Layer1: arange</h4>\n",
       "        </summary>\n",
       "        <p style=\"color: var(--jp-ui-font-color2, #5D5851); margin: -0.25em 0px 0px 0px;\">\n",
       "            arange-571d5d5e2ac3b386ea241c8f4963b0ff\n",
       "        </p>\n",
       "\n",
       "        <table>\n",
       "        <tr>\n",
       "            <td>\n",
       "                <table>\n",
       "                \n",
       "                    <tr>\n",
       "                        <th style=\"text-align: left; width: 150px;\">layer_type</th>\n",
       "                        <td style=\"text-align: left;\">MaterializedLayer</td>\n",
       "                    </tr>\n",
       "                \n",
       "                    <tr>\n",
       "                        <th style=\"text-align: left; width: 150px;\">is_materialized</th>\n",
       "                        <td style=\"text-align: left;\">True</td>\n",
       "                    </tr>\n",
       "                \n",
       "                    <tr>\n",
       "                        <th style=\"text-align: left; width: 150px;\">number of outputs</th>\n",
       "                        <td style=\"text-align: left;\">3</td>\n",
       "                    </tr>\n",
       "                \n",
       "                    <tr>\n",
       "                        <th style=\"text-align: left; width: 150px;\">shape</th>\n",
       "                        <td style=\"text-align: left;\">(15,)</td>\n",
       "                    </tr>\n",
       "                \n",
       "                    <tr>\n",
       "                        <th style=\"text-align: left; width: 150px;\">dtype</th>\n",
       "                        <td style=\"text-align: left;\">int64</td>\n",
       "                    </tr>\n",
       "                \n",
       "                    <tr>\n",
       "                        <th style=\"text-align: left; width: 150px;\">chunksize</th>\n",
       "                        <td style=\"text-align: left;\">(5,)</td>\n",
       "                    </tr>\n",
       "                \n",
       "                    <tr>\n",
       "                        <th style=\"text-align: left; width: 150px;\">type</th>\n",
       "                        <td style=\"text-align: left;\">dask.array.core.Array</td>\n",
       "                    </tr>\n",
       "                \n",
       "                    <tr>\n",
       "                        <th style=\"text-align: left; width: 150px;\">chunk_type</th>\n",
       "                        <td style=\"text-align: left;\">numpy.ndarray</td>\n",
       "                    </tr>\n",
       "                \n",
       "                \n",
       "                </table>\n",
       "            </td>\n",
       "            <td>\n",
       "                <svg width=\"250\" height=\"110\" style=\"stroke:rgb(0,0,0);stroke-width:1\" >\n",
       "\n",
       "  <!-- Horizontal lines -->\n",
       "  <line x1=\"0\" y1=\"0\" x2=\"200\" y2=\"0\" style=\"stroke-width:2\" />\n",
       "  <line x1=\"0\" y1=\"60\" x2=\"200\" y2=\"60\" style=\"stroke-width:2\" />\n",
       "\n",
       "  <!-- Vertical lines -->\n",
       "  <line x1=\"0\" y1=\"0\" x2=\"0\" y2=\"60\" style=\"stroke-width:2\" />\n",
       "  <line x1=\"66\" y1=\"0\" x2=\"66\" y2=\"60\" />\n",
       "  <line x1=\"133\" y1=\"0\" x2=\"133\" y2=\"60\" />\n",
       "  <line x1=\"200\" y1=\"0\" x2=\"200\" y2=\"60\" style=\"stroke-width:2\" />\n",
       "\n",
       "  <!-- Colored Rectangle -->\n",
       "  <polygon points=\"0.0,0.0 200.0,0.0 200.0,60.41304982017334 0.0,60.41304982017334\" style=\"fill:#ECB172A0;stroke-width:0\"/>\n",
       "\n",
       "  <!-- Text -->\n",
       "  <text x=\"100.000000\" y=\"80.413050\" font-size=\"1.0rem\" font-weight=\"100\" text-anchor=\"middle\" >15</text>\n",
       "  <text x=\"220.000000\" y=\"30.206525\" font-size=\"1.0rem\" font-weight=\"100\" text-anchor=\"middle\" transform=\"rotate(0,220.000000,30.206525)\">1</text>\n",
       "</svg>\n",
       "            </td>\n",
       "        </tr>\n",
       "        </table>\n",
       "\n",
       "    </details>\n",
       "</div>\n",
       "            \n",
       "        </div>\n",
       "    </div>\n",
       "</div>"
      ],
      "text/plain": [
       "HighLevelGraph with 1 layers.\n",
       "<dask.highlevelgraph.HighLevelGraph object at 0x10957be50>\n",
       " 0. arange-571d5d5e2ac3b386ea241c8f4963b0ff"
      ]
     },
     "execution_count": 8,
     "metadata": {},
     "output_type": "execute_result"
    }
   ],
   "source": [
    "a.__dask_graph__()"
   ]
  },
  {
   "cell_type": "code",
   "execution_count": 6,
   "id": "eab4aba1-5024-4ddd-b510-4f58cd5add6d",
   "metadata": {
    "execution": {
     "iopub.execute_input": "2024-10-15T17:47:35.798400Z",
     "iopub.status.busy": "2024-10-15T17:47:35.797993Z",
     "iopub.status.idle": "2024-10-15T17:47:35.804439Z",
     "shell.execute_reply": "2024-10-15T17:47:35.803652Z",
     "shell.execute_reply.started": "2024-10-15T17:47:35.798367Z"
    }
   },
   "outputs": [
    {
     "data": {
      "text/plain": [
       "{('arange-571d5d5e2ac3b386ea241c8f4963b0ff',\n",
       "  0): (functools.partial(<function arange at 0x107167eb0>, like=None), 0, 5, 1, 5, dtype('int64')),\n",
       " ('arange-571d5d5e2ac3b386ea241c8f4963b0ff',\n",
       "  1): (functools.partial(<function arange at 0x107167eb0>, like=None), 5, 10, 1, 5, dtype('int64')),\n",
       " ('arange-571d5d5e2ac3b386ea241c8f4963b0ff',\n",
       "  2): (functools.partial(<function arange at 0x107167eb0>, like=None), 10, 15, 1, 5, dtype('int64'))}"
      ]
     },
     "execution_count": 6,
     "metadata": {},
     "output_type": "execute_result"
    }
   ],
   "source": [
    "dict(a.__dask_graph__())"
   ]
  },
  {
   "cell_type": "code",
   "execution_count": 9,
   "id": "9b041b7b-4070-437f-845c-1a2bd93d793a",
   "metadata": {
    "execution": {
     "iopub.execute_input": "2024-10-15T18:17:43.374336Z",
     "iopub.status.busy": "2024-10-15T18:17:43.373624Z",
     "iopub.status.idle": "2024-10-15T18:17:43.380395Z",
     "shell.execute_reply": "2024-10-15T18:17:43.379626Z",
     "shell.execute_reply.started": "2024-10-15T18:17:43.374304Z"
    }
   },
   "outputs": [
    {
     "data": {
      "text/plain": [
       "[('arange-571d5d5e2ac3b386ea241c8f4963b0ff', 0),\n",
       " ('arange-571d5d5e2ac3b386ea241c8f4963b0ff', 1),\n",
       " ('arange-571d5d5e2ac3b386ea241c8f4963b0ff', 2)]"
      ]
     },
     "execution_count": 9,
     "metadata": {},
     "output_type": "execute_result"
    }
   ],
   "source": [
    "a.__dask_keys__()"
   ]
  }
 ],
 "metadata": {
  "kernelspec": {
   "display_name": "Python 3 (ipykernel)",
   "language": "python",
   "name": "python3"
  },
  "language_info": {
   "codemirror_mode": {
    "name": "ipython",
    "version": 3
   },
   "file_extension": ".py",
   "mimetype": "text/x-python",
   "name": "python",
   "nbconvert_exporter": "python",
   "pygments_lexer": "ipython3",
   "version": "3.10.14"
  }
 },
 "nbformat": 4,
 "nbformat_minor": 5
}
