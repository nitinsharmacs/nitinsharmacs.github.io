{
 "cells": [
  {
   "cell_type": "markdown",
   "id": "5031cfed-3092-45c5-8e9f-9578178baf9a",
   "metadata": {},
   "source": [
    "# Goal\n",
    "\n",
    "Understanding polynomials handling methods of numpy. \n",
    "\n",
    "Includes\n",
    "1. poly1d\n",
    "2. polyval\n",
    "3. polyfit"
   ]
  },
  {
   "cell_type": "code",
   "execution_count": 1,
   "id": "0b1b7360-74e9-4085-8dcd-d93ff6df5538",
   "metadata": {
    "execution": {
     "iopub.execute_input": "2024-06-21T05:31:01.326053Z",
     "iopub.status.busy": "2024-06-21T05:31:01.325743Z",
     "iopub.status.idle": "2024-06-21T05:31:01.524088Z",
     "shell.execute_reply": "2024-06-21T05:31:01.523620Z",
     "shell.execute_reply.started": "2024-06-21T05:31:01.326025Z"
    }
   },
   "outputs": [],
   "source": [
    "import numpy as np"
   ]
  },
  {
   "cell_type": "markdown",
   "id": "a2a8da84-d218-40a3-8d95-f30d0aaad3fa",
   "metadata": {},
   "source": [
    "## `poly1d`"
   ]
  },
  {
   "cell_type": "markdown",
   "id": "ef74cfce-5462-4f4d-982d-f0e7e4787a09",
   "metadata": {
    "execution": {
     "iopub.execute_input": "2024-06-21T05:57:08.268456Z",
     "iopub.status.busy": "2024-06-21T05:57:08.268115Z",
     "iopub.status.idle": "2024-06-21T05:57:08.273792Z",
     "shell.execute_reply": "2024-06-21T05:57:08.272707Z",
     "shell.execute_reply.started": "2024-06-21T05:57:08.268429Z"
    }
   },
   "source": [
    "Creates a polynomial"
   ]
  },
  {
   "cell_type": "markdown",
   "id": "01e83cf5-7d4b-4850-bc4e-1ffe6fb0faf4",
   "metadata": {},
   "source": [
    "## Creating polynomial"
   ]
  },
  {
   "cell_type": "code",
   "execution_count": 7,
   "id": "c11aa856-56a3-4f15-aead-77e66421a361",
   "metadata": {
    "execution": {
     "iopub.execute_input": "2024-06-21T05:32:33.120355Z",
     "iopub.status.busy": "2024-06-21T05:32:33.120013Z",
     "iopub.status.idle": "2024-06-21T05:32:33.125218Z",
     "shell.execute_reply": "2024-06-21T05:32:33.124557Z",
     "shell.execute_reply.started": "2024-06-21T05:32:33.120327Z"
    }
   },
   "outputs": [
    {
     "name": "stdout",
     "output_type": "stream",
     "text": [
      " \n",
      "2 x + 1\n"
     ]
    }
   ],
   "source": [
    "# Creating polynomial of order 1\n",
    "# 2x + 1\n",
    "pol = np.poly1d([2, 1])\n",
    "print(pol)"
   ]
  },
  {
   "cell_type": "code",
   "execution_count": 8,
   "id": "beae7f72-43be-4854-9551-e5445651a92f",
   "metadata": {
    "execution": {
     "iopub.execute_input": "2024-06-21T05:33:22.205348Z",
     "iopub.status.busy": "2024-06-21T05:33:22.204992Z",
     "iopub.status.idle": "2024-06-21T05:33:22.210001Z",
     "shell.execute_reply": "2024-06-21T05:33:22.209290Z",
     "shell.execute_reply.started": "2024-06-21T05:33:22.205319Z"
    }
   },
   "outputs": [
    {
     "name": "stdout",
     "output_type": "stream",
     "text": [
      "   2\n",
      "2 x + 3 x + 4\n"
     ]
    }
   ],
   "source": [
    "# Creating a polynomal of order 2\n",
    "# 2x^2 + 3x + 4\n",
    "pol = np.poly1d([2, 3, 4])\n",
    "print(pol)"
   ]
  },
  {
   "cell_type": "markdown",
   "id": "2a93feab-c3ae-4bab-a1d8-a262efd9de72",
   "metadata": {},
   "source": [
    "## Evaluation"
   ]
  },
  {
   "cell_type": "code",
   "execution_count": 60,
   "id": "41790880-9fd0-44c6-ba0c-dccf5243efd0",
   "metadata": {
    "execution": {
     "iopub.execute_input": "2024-06-21T06:09:18.037470Z",
     "iopub.status.busy": "2024-06-21T06:09:18.036985Z",
     "iopub.status.idle": "2024-06-21T06:09:18.042187Z",
     "shell.execute_reply": "2024-06-21T06:09:18.041458Z",
     "shell.execute_reply.started": "2024-06-21T06:09:18.037443Z"
    }
   },
   "outputs": [
    {
     "name": "stdout",
     "output_type": "stream",
     "text": [
      "   2\n",
      "2 x + 3 x + 4\n",
      "18\n",
      "[18 31 48]\n"
     ]
    }
   ],
   "source": [
    "# Evaluating pol with x = 2\n",
    "print(pol)\n",
    "print(pol(2))\n",
    "print(pol([2, 3, 4]))"
   ]
  },
  {
   "cell_type": "markdown",
   "id": "158fb4e2-ec6d-428d-b6bc-6b914243e824",
   "metadata": {},
   "source": [
    "## Arithmetic operations"
   ]
  },
  {
   "cell_type": "code",
   "execution_count": 25,
   "id": "bbb6fced-c789-4db2-8169-b8d486a69957",
   "metadata": {
    "execution": {
     "iopub.execute_input": "2024-06-21T05:41:06.617808Z",
     "iopub.status.busy": "2024-06-21T05:41:06.617433Z",
     "iopub.status.idle": "2024-06-21T05:41:06.623189Z",
     "shell.execute_reply": "2024-06-21T05:41:06.622511Z",
     "shell.execute_reply.started": "2024-06-21T05:41:06.617778Z"
    }
   },
   "outputs": [
    {
     "name": "stdout",
     "output_type": "stream",
     "text": [
      "   2\n",
      "4 x + 6 x + 8\n",
      "   4      3      2\n",
      "4 x + 12 x + 25 x + 24 x + 16\n",
      "(poly1d([1.]), poly1d([0.]))\n",
      "   6      5       4       3       2\n",
      "8 x + 36 x + 102 x + 171 x + 204 x + 144 x + 64\n"
     ]
    }
   ],
   "source": [
    "# addition of pols\n",
    "\n",
    "print(pol + pol)\n",
    "\n",
    "# multiplication\n",
    "print(pol * pol)\n",
    "\n",
    "# division\n",
    "\n",
    "print(pol / pol) # returns quotient and remainder\n",
    "\n",
    "# square pols\n",
    "print(pol ** 3)"
   ]
  },
  {
   "cell_type": "markdown",
   "id": "b33fac26-56d1-4eb7-9c4c-9282d8ebdde5",
   "metadata": {},
   "source": [
    "# `polyval`"
   ]
  },
  {
   "cell_type": "code",
   "execution_count": 54,
   "id": "9c652648-b2ec-4e82-bcb7-1a51441ee161",
   "metadata": {
    "execution": {
     "iopub.execute_input": "2024-06-21T05:53:49.332249Z",
     "iopub.status.busy": "2024-06-21T05:53:49.331917Z",
     "iopub.status.idle": "2024-06-21T05:53:49.337694Z",
     "shell.execute_reply": "2024-06-21T05:53:49.337079Z",
     "shell.execute_reply.started": "2024-06-21T05:53:49.332222Z"
    }
   },
   "outputs": [
    {
     "data": {
      "text/plain": [
       "array([ 9., 24., 47., 78.])"
      ]
     },
     "execution_count": 54,
     "metadata": {},
     "output_type": "execute_result"
    }
   ],
   "source": [
    "np.polynomial.polynomial.polyval([1,2,3, 4], [2, 3, 4])"
   ]
  },
  {
   "cell_type": "code",
   "execution_count": 48,
   "id": "378dcb1b-038b-4270-bd27-1c822bc5c3c0",
   "metadata": {
    "execution": {
     "iopub.execute_input": "2024-06-21T05:51:24.077848Z",
     "iopub.status.busy": "2024-06-21T05:51:24.077508Z",
     "iopub.status.idle": "2024-06-21T05:51:24.082380Z",
     "shell.execute_reply": "2024-06-21T05:51:24.081637Z",
     "shell.execute_reply.started": "2024-06-21T05:51:24.077821Z"
    }
   },
   "outputs": [
    {
     "name": "stdout",
     "output_type": "stream",
     "text": [
      "48\n"
     ]
    }
   ],
   "source": [
    "print(pol(4))"
   ]
  },
  {
   "cell_type": "markdown",
   "id": "4565bc73-9012-4d69-88e5-09f3428039df",
   "metadata": {},
   "source": [
    "## Issue?"
   ]
  },
  {
   "cell_type": "code",
   "execution_count": 57,
   "id": "c7465220-2a99-44ac-9cbe-3e8ef586c032",
   "metadata": {
    "execution": {
     "iopub.execute_input": "2024-06-21T05:56:30.679272Z",
     "iopub.status.busy": "2024-06-21T05:56:30.678936Z",
     "iopub.status.idle": "2024-06-21T05:56:30.684768Z",
     "shell.execute_reply": "2024-06-21T05:56:30.684008Z",
     "shell.execute_reply.started": "2024-06-21T05:56:30.679245Z"
    }
   },
   "outputs": [
    {
     "name": "stdout",
     "output_type": "stream",
     "text": [
      "   2\n",
      "2 x + 3 x + 4\n",
      "18\n",
      "24.0\n"
     ]
    }
   ],
   "source": [
    "print(pol)\n",
    "print(pol(2))\n",
    "print(np.polynomial.polynomial.polyval(2, pol))\n",
    "# why both evaluations result different values?"
   ]
  },
  {
   "cell_type": "markdown",
   "id": "74e305d7-57c6-4cbb-98a3-76d93c380341",
   "metadata": {},
   "source": [
    "# `polyfit`"
   ]
  },
  {
   "cell_type": "markdown",
   "id": "e8f741b0-ad39-45d8-8744-47e5c9ad9ec2",
   "metadata": {},
   "source": [
    "polyfit is used to find the cofficient of a polynomial that best fits the given data points.\n",
    "\n",
    "For example, there are data points such as $(1, 1), (2, 1), (3, 4)$ and we need to find a polynomial that best fit these data points, we can use `polyfit` numpy method\n",
    "\n",
    "## How it finds the best fit polynomial? \n",
    "`numpy.polyfit` uses least squares method."
   ]
  },
  {
   "cell_type": "code",
   "execution_count": 111,
   "id": "5efc5629-1498-45bc-82cc-4a55e12e921c",
   "metadata": {
    "execution": {
     "iopub.execute_input": "2024-06-21T10:22:45.363043Z",
     "iopub.status.busy": "2024-06-21T10:22:45.362740Z",
     "iopub.status.idle": "2024-06-21T10:22:45.367059Z",
     "shell.execute_reply": "2024-06-21T10:22:45.366314Z",
     "shell.execute_reply.started": "2024-06-21T10:22:45.363022Z"
    }
   },
   "outputs": [],
   "source": [
    "# data points\n",
    "x = np.array([1, 2, 3, 4], dtype=\"int64\")\n",
    "y = np.array([2, 3, 5, 7], dtype=\"int64\")"
   ]
  },
  {
   "cell_type": "code",
   "execution_count": 112,
   "id": "db148ec1-3e2c-4b25-a726-8f872824fb66",
   "metadata": {
    "execution": {
     "iopub.execute_input": "2024-06-21T10:22:47.995722Z",
     "iopub.status.busy": "2024-06-21T10:22:47.995417Z",
     "iopub.status.idle": "2024-06-21T10:22:48.001679Z",
     "shell.execute_reply": "2024-06-21T10:22:48.000774Z",
     "shell.execute_reply.started": "2024-06-21T10:22:47.995697Z"
    }
   },
   "outputs": [
    {
     "data": {
      "text/plain": [
       "array([-1.38690251e-16,  1.70000000e+00])"
      ]
     },
     "execution_count": 112,
     "metadata": {},
     "output_type": "execute_result"
    }
   ],
   "source": [
    "# finding the coefficients using polyfit\n",
    "\n",
    "coef = np.polynomial.polynomial.polyfit(x, y, 1)\n",
    "coef"
   ]
  },
  {
   "cell_type": "code",
   "execution_count": 113,
   "id": "895185b6-0ee9-47ec-9915-bc2d220af7dd",
   "metadata": {
    "execution": {
     "iopub.execute_input": "2024-06-21T10:22:49.086778Z",
     "iopub.status.busy": "2024-06-21T10:22:49.086470Z",
     "iopub.status.idle": "2024-06-21T10:22:49.091945Z",
     "shell.execute_reply": "2024-06-21T10:22:49.091368Z",
     "shell.execute_reply.started": "2024-06-21T10:22:49.086753Z"
    }
   },
   "outputs": [
    {
     "data": {
      "text/plain": [
       "poly1d([-1.38690251e-16,  1.70000000e+00])"
      ]
     },
     "execution_count": 113,
     "metadata": {},
     "output_type": "execute_result"
    }
   ],
   "source": [
    "# creating the polynomial\n",
    "pol = np.poly1d(coef)\n",
    "pol"
   ]
  },
  {
   "cell_type": "code",
   "execution_count": 118,
   "id": "1c2307bb-94d7-4115-88f1-8e0ed5426d40",
   "metadata": {
    "execution": {
     "iopub.execute_input": "2024-06-21T10:24:21.781980Z",
     "iopub.status.busy": "2024-06-21T10:24:21.780975Z",
     "iopub.status.idle": "2024-06-21T10:24:21.788343Z",
     "shell.execute_reply": "2024-06-21T10:24:21.786990Z",
     "shell.execute_reply.started": "2024-06-21T10:24:21.781921Z"
    }
   },
   "outputs": [
    {
     "data": {
      "text/plain": [
       "array([1.7, 1.7, 1.7, 1.7])"
      ]
     },
     "execution_count": 118,
     "metadata": {},
     "output_type": "execute_result"
    }
   ],
   "source": [
    "_y_fit = np.polyval(coef, x) # another method\n",
    "_y_fit"
   ]
  },
  {
   "cell_type": "code",
   "execution_count": 107,
   "id": "3e27a1a2-d1b1-4d1b-9709-86e1a5a1f17e",
   "metadata": {
    "execution": {
     "iopub.execute_input": "2024-06-21T10:21:47.303736Z",
     "iopub.status.busy": "2024-06-21T10:21:47.303454Z",
     "iopub.status.idle": "2024-06-21T10:21:47.307855Z",
     "shell.execute_reply": "2024-06-21T10:21:47.306100Z",
     "shell.execute_reply.started": "2024-06-21T10:21:47.303714Z"
    }
   },
   "outputs": [],
   "source": [
    "# fitted y_axis\n",
    "y_fit = pol(x)"
   ]
  },
  {
   "cell_type": "code",
   "execution_count": 108,
   "id": "f3c35e1a-c47b-4990-a881-a64ddb08028d",
   "metadata": {
    "execution": {
     "iopub.execute_input": "2024-06-21T10:21:47.715324Z",
     "iopub.status.busy": "2024-06-21T10:21:47.714999Z",
     "iopub.status.idle": "2024-06-21T10:21:47.719550Z",
     "shell.execute_reply": "2024-06-21T10:21:47.718283Z",
     "shell.execute_reply.started": "2024-06-21T10:21:47.715305Z"
    }
   },
   "outputs": [],
   "source": [
    "import matplotlib.pyplot as plt"
   ]
  },
  {
   "cell_type": "code",
   "execution_count": 110,
   "id": "4b232a07-86b2-44cd-8426-d8a7e9a43490",
   "metadata": {
    "execution": {
     "iopub.execute_input": "2024-06-21T10:22:01.518515Z",
     "iopub.status.busy": "2024-06-21T10:22:01.518174Z",
     "iopub.status.idle": "2024-06-21T10:22:01.709467Z",
     "shell.execute_reply": "2024-06-21T10:22:01.708830Z",
     "shell.execute_reply.started": "2024-06-21T10:22:01.518490Z"
    }
   },
   "outputs": [
    {
     "data": {
      "image/png": "[encoded data removed]",
      "text/plain": [
       "<Figure size 640x480 with 1 Axes>"
      ]
     },
     "metadata": {},
     "output_type": "display_data"
    },
    {
     "name": "stdout",
     "output_type": "stream",
     "text": [
      "[1.7 1.7 1.7 1.7]\n"
     ]
    }
   ],
   "source": [
    "plt.scatter(x, y, label=\"Data points\")\n",
    "plt.plot(x, y_fit, label=\"fitted line\")\n",
    "plt.xlabel(\"x\")\n",
    "plt.ylabel(\"y\")\n",
    "plt.legend()\n",
    "plt.show()\n",
    "print(y_fit)"
   ]
  },
  {
   "cell_type": "markdown",
   "id": "568b2de7-8119-48b7-8a4d-3343efc41591",
   "metadata": {
    "execution": {
     "iopub.execute_input": "2024-06-21T10:25:46.610091Z",
     "iopub.status.busy": "2024-06-21T10:25:46.609796Z",
     "iopub.status.idle": "2024-06-21T10:25:46.613541Z",
     "shell.execute_reply": "2024-06-21T10:25:46.612662Z",
     "shell.execute_reply.started": "2024-06-21T10:25:46.610068Z"
    }
   },
   "source": [
    "# Outputs"
   ]
  },
  {
   "cell_type": "markdown",
   "id": "e146b07f-0063-4ee5-9561-c62c18e3f6cb",
   "metadata": {},
   "source": [
    "1. `poly1d` creates the polynomial with takes a list coefficients. The number of coefficients determine the degree of the polynomial. The resultant polynomial can be evaluated by calling it as a function and passing value of `x`.\n",
    "\n",
    "2. `np.polyval` and `np.polynomial.polynomials.polyval` work different and give different results. See the section of `polyval`.\n",
    "\n",
    "3. for `polyfit`, need a better data points to work with."
   ]
  },
  {
   "cell_type": "code",
   "execution_count": null,
   "id": "9288c5b6-ba49-4a87-9902-e222fa53b6c8",
   "metadata": {},
   "outputs": [],
   "source": []
  }
 ],
 "metadata": {
  "kernelspec": {
   "display_name": "Python 3 (ipykernel)",
   "language": "python",
   "name": "python3"
  },
  "language_info": {
   "codemirror_mode": {
    "name": "ipython",
    "version": 3
   },
   "file_extension": ".py",
   "mimetype": "text/x-python",
   "name": "python",
   "nbconvert_exporter": "python",
   "pygments_lexer": "ipython3",
   "version": "3.10.14"
  }
 },
 "nbformat": 4,
 "nbformat_minor": 5
}
