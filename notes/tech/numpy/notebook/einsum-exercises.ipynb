{
 "cells": [
  {
   "cell_type": "code",
   "execution_count": 2,
   "id": "62c709c7",
   "metadata": {},
   "outputs": [],
   "source": [
    "import numpy as np"
   ]
  },
  {
   "cell_type": "markdown",
   "id": "f82d70ae",
   "metadata": {},
   "source": [
    "## Exercises"
   ]
  },
  {
   "cell_type": "markdown",
   "id": "6f13dd34",
   "metadata": {},
   "source": [
    "### 1. Dot product of two vectors\n",
    "\n"
   ]
  },
  {
   "cell_type": "code",
   "execution_count": 3,
   "id": "f9a92612",
   "metadata": {},
   "outputs": [],
   "source": [
    "a = np.array([1, 2, 3])\n",
    "b = np.array([4, 5, 6])\n",
    "\n",
    "# Expected Output:\n",
    "# 32"
   ]
  },
  {
   "cell_type": "code",
   "execution_count": 6,
   "id": "f0bf1e27",
   "metadata": {},
   "outputs": [
    {
     "data": {
      "text/plain": [
       "32"
      ]
     },
     "execution_count": 6,
     "metadata": {},
     "output_type": "execute_result"
    }
   ],
   "source": [
    "np.einsum(\"i,i\", a, b)"
   ]
  },
  {
   "cell_type": "markdown",
   "id": "689da698",
   "metadata": {},
   "source": [
    "### 2. Matrix vector multiplication"
   ]
  },
  {
   "cell_type": "code",
   "execution_count": null,
   "id": "ba8656ef",
   "metadata": {},
   "outputs": [],
   "source": [
    "M = np.array([\n",
    "    [1, 2],\n",
    "    [3, 4],\n",
    "    [5, 6]])\n",
    "v = np.array([7, 8])\n",
    "\n",
    "# Expected Output:\n",
    "# array([23, 53, 83])\n",
    "3 x 2, 1 x 2"
   ]
  },
  {
   "cell_type": "code",
   "execution_count": 10,
   "id": "e103a221",
   "metadata": {},
   "outputs": [
    {
     "data": {
      "text/plain": [
       "array([23, 53, 83])"
      ]
     },
     "execution_count": 10,
     "metadata": {},
     "output_type": "execute_result"
    }
   ],
   "source": [
    "np.einsum(\"ij,j->i\", M, v)"
   ]
  },
  {
   "cell_type": "markdown",
   "id": "9a9238a8",
   "metadata": {},
   "source": [
    "### 3. Matrix Matrix multiplication"
   ]
  },
  {
   "cell_type": "code",
   "execution_count": 11,
   "id": "cc55472f",
   "metadata": {},
   "outputs": [],
   "source": [
    "A = np.array([[1, 2], [3, 4]])\n",
    "B = np.array([[5, 6], [7, 8]])\n",
    "\n",
    "# Expected Output:\n",
    "# array([[19, 22],\n",
    "#        [43, 50]])\n"
   ]
  },
  {
   "cell_type": "code",
   "execution_count": 12,
   "id": "1aec2b3a",
   "metadata": {},
   "outputs": [
    {
     "data": {
      "text/plain": [
       "array([[19, 22],\n",
       "       [43, 50]])"
      ]
     },
     "execution_count": 12,
     "metadata": {},
     "output_type": "execute_result"
    }
   ],
   "source": [
    "np.einsum(\"ij,jk->ik\", A, B)"
   ]
  },
  {
   "cell_type": "markdown",
   "id": "b4aa17a7",
   "metadata": {},
   "source": [
    "### 4. Outer product of vectors"
   ]
  },
  {
   "cell_type": "code",
   "execution_count": 13,
   "id": "3846c35b",
   "metadata": {},
   "outputs": [],
   "source": [
    "x = np.array([1, 2, 3])\n",
    "y = np.array([4, 5])\n",
    "\n",
    "# Expected Output:\n",
    "# array([[ 4,  5],\n",
    "#        [ 8, 10],\n",
    "#        [12, 15]])"
   ]
  },
  {
   "cell_type": "code",
   "execution_count": 15,
   "id": "cc5c4a67",
   "metadata": {},
   "outputs": [
    {
     "data": {
      "text/plain": [
       "array([[ 4,  5],\n",
       "       [ 8, 10],\n",
       "       [12, 15]])"
      ]
     },
     "execution_count": 15,
     "metadata": {},
     "output_type": "execute_result"
    }
   ],
   "source": [
    "np.einsum(\"i,j->ij\", x, y)"
   ]
  },
  {
   "cell_type": "code",
   "execution_count": 19,
   "id": "abc5e388",
   "metadata": {},
   "outputs": [
    {
     "data": {
      "text/plain": [
       "array([[ 4,  5],\n",
       "       [ 8, 10],\n",
       "       [12, 15]])"
      ]
     },
     "execution_count": 19,
     "metadata": {},
     "output_type": "execute_result"
    }
   ],
   "source": [
    "result = np.zeros((x.shape[0], y.shape[0]), dtype=x.dtype)\n",
    "for i in range(x.shape[0]):\n",
    "    for j in range(y.shape[0]):\n",
    "        result[i,j] = x[i] * y[j]\n",
    "result"
   ]
  },
  {
   "cell_type": "markdown",
   "id": "ce3edd2c",
   "metadata": {},
   "source": [
    "### 5. Trace of Matrix\n",
    "\n",
    "Trace is sum of diagnol of matrix"
   ]
  },
  {
   "cell_type": "code",
   "execution_count": 20,
   "id": "f3b75191",
   "metadata": {},
   "outputs": [],
   "source": [
    "A = np.array([[1, 2, 3],\n",
    "              [4, 5, 6],\n",
    "              [7, 8, 9]])\n",
    "\n",
    "# Expected Output:\n",
    "# 15\n"
   ]
  },
  {
   "cell_type": "code",
   "execution_count": 23,
   "id": "8d408eb2",
   "metadata": {},
   "outputs": [
    {
     "name": "stdout",
     "output_type": "stream",
     "text": [
      "15\n",
      "15\n"
     ]
    }
   ],
   "source": [
    "print(np.trace(A))\n",
    "\n",
    "print(np.einsum(\"ii\", A))"
   ]
  },
  {
   "cell_type": "markdown",
   "id": "391185dd",
   "metadata": {},
   "source": [
    "### 6. Sum over all elements of matrix"
   ]
  },
  {
   "cell_type": "code",
   "execution_count": 24,
   "id": "6c5a9ac8",
   "metadata": {},
   "outputs": [],
   "source": [
    "A = np.array([[1, 2],\n",
    "              [3, 4]])\n",
    "\n",
    "# Expected Output:\n",
    "# 10\n"
   ]
  },
  {
   "cell_type": "markdown",
   "id": "aa7bdb8f",
   "metadata": {},
   "source": [
    "$$\n",
    "\\text{result} = \\sum_{i,j} a_{ij}\n",
    "$$"
   ]
  },
  {
   "cell_type": "code",
   "execution_count": 35,
   "id": "9a0932b0",
   "metadata": {},
   "outputs": [
    {
     "name": "stdout",
     "output_type": "stream",
     "text": [
      "10\n",
      "10\n"
     ]
    }
   ],
   "source": [
    "print(np.sum(A))\n",
    "print(np.einsum(\"ij->\", A))"
   ]
  },
  {
   "cell_type": "code",
   "execution_count": 36,
   "id": "d6a2cad7",
   "metadata": {},
   "outputs": [
    {
     "data": {
      "text/plain": [
       "10"
      ]
     },
     "execution_count": 36,
     "metadata": {},
     "output_type": "execute_result"
    }
   ],
   "source": [
    "result = 0\n",
    "for i in range(A.shape[0]):\n",
    "    for j in range(A.shape[1]):\n",
    "        result += A[i,j]\n",
    "result"
   ]
  }
 ],
 "metadata": {
  "kernelspec": {
   "display_name": "spec_line_sandbox",
   "language": "python",
   "name": "python3"
  },
  "language_info": {
   "codemirror_mode": {
    "name": "ipython",
    "version": 3
   },
   "file_extension": ".py",
   "mimetype": "text/x-python",
   "name": "python",
   "nbconvert_exporter": "python",
   "pygments_lexer": "ipython3",
   "version": "3.10.14"
  }
 },
 "nbformat": 4,
 "nbformat_minor": 5
}
