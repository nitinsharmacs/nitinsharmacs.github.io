{
 "cells": [
  {
   "cell_type": "code",
   "execution_count": 36,
   "id": "9088add1-0f42-419d-aa53-02190755503f",
   "metadata": {
    "execution": {
     "iopub.execute_input": "2024-09-24T17:50:37.466230Z",
     "iopub.status.busy": "2024-09-24T17:50:37.465531Z",
     "iopub.status.idle": "2024-09-24T17:50:37.470348Z",
     "shell.execute_reply": "2024-09-24T17:50:37.469281Z",
     "shell.execute_reply.started": "2024-09-24T17:50:37.466197Z"
    }
   },
   "outputs": [],
   "source": [
    "import numpy as np\n",
    "import matplotlib.pyplot as plt"
   ]
  },
  {
   "cell_type": "markdown",
   "id": "80a7a36f-0bbe-4ac5-a65a-295e3014dc5e",
   "metadata": {},
   "source": [
    "# `polyfit`\n",
    "\n",
    "Objective is to create a fit of a set of data points and plot it."
   ]
  },
  {
   "cell_type": "markdown",
   "id": "b7a84e7b-4bc3-470a-b9fe-8fde5a1285ab",
   "metadata": {},
   "source": [
    "## 1 degree polynomial"
   ]
  },
  {
   "cell_type": "code",
   "execution_count": 37,
   "id": "91d7001b-c300-4acb-99df-a7dda5ce24c7",
   "metadata": {
    "execution": {
     "iopub.execute_input": "2024-09-24T17:50:37.472279Z",
     "iopub.status.busy": "2024-09-24T17:50:37.471957Z",
     "iopub.status.idle": "2024-09-24T17:50:37.475830Z",
     "shell.execute_reply": "2024-09-24T17:50:37.475149Z",
     "shell.execute_reply.started": "2024-09-24T17:50:37.472250Z"
    }
   },
   "outputs": [],
   "source": [
    "x = np.array([1, 2, 3, 4])\n",
    "y = np.array([1, 2, 3, 4])"
   ]
  },
  {
   "cell_type": "code",
   "execution_count": 38,
   "id": "8a6b2a7b-71a3-4784-b75d-dbd1ad6db9ff",
   "metadata": {
    "execution": {
     "iopub.execute_input": "2024-09-24T17:50:37.477466Z",
     "iopub.status.busy": "2024-09-24T17:50:37.477132Z",
     "iopub.status.idle": "2024-09-24T17:50:37.481114Z",
     "shell.execute_reply": "2024-09-24T17:50:37.480326Z",
     "shell.execute_reply.started": "2024-09-24T17:50:37.477440Z"
    }
   },
   "outputs": [],
   "source": [
    "fit = np.polyfit(x, y, 1)"
   ]
  },
  {
   "cell_type": "code",
   "execution_count": 39,
   "id": "c0b1c606-59d1-4ed6-bc59-a15b71bd142d",
   "metadata": {
    "execution": {
     "iopub.execute_input": "2024-09-24T17:50:37.483616Z",
     "iopub.status.busy": "2024-09-24T17:50:37.483323Z",
     "iopub.status.idle": "2024-09-24T17:50:37.487132Z",
     "shell.execute_reply": "2024-09-24T17:50:37.486249Z",
     "shell.execute_reply.started": "2024-09-24T17:50:37.483591Z"
    }
   },
   "outputs": [],
   "source": [
    "equation = np.poly1d(fit)"
   ]
  },
  {
   "cell_type": "code",
   "execution_count": 40,
   "id": "4874bab9-5fa6-4f4d-b5bb-2e19a8b339b0",
   "metadata": {
    "execution": {
     "iopub.execute_input": "2024-09-24T17:50:37.488879Z",
     "iopub.status.busy": "2024-09-24T17:50:37.488276Z",
     "iopub.status.idle": "2024-09-24T17:50:37.493225Z",
     "shell.execute_reply": "2024-09-24T17:50:37.492024Z",
     "shell.execute_reply.started": "2024-09-24T17:50:37.488848Z"
    }
   },
   "outputs": [],
   "source": [
    "x_points = np.linspace(1, 10, 100)\n",
    "y_points = equation(x_points)"
   ]
  },
  {
   "cell_type": "code",
   "execution_count": 41,
   "id": "3dc25a5f-5918-40b3-9305-b8390eedca03",
   "metadata": {
    "execution": {
     "iopub.execute_input": "2024-09-24T17:50:37.494809Z",
     "iopub.status.busy": "2024-09-24T17:50:37.494447Z",
     "iopub.status.idle": "2024-09-24T17:50:37.607642Z",
     "shell.execute_reply": "2024-09-24T17:50:37.607075Z",
     "shell.execute_reply.started": "2024-09-24T17:50:37.494785Z"
    }
   },
   "outputs": [
    {
     "data": {
      "text/plain": [
       "[<matplotlib.lines.Line2D at 0x14c8564d0>]"
      ]
     },
     "execution_count": 41,
     "metadata": {},
     "output_type": "execute_result"
    },
    {
     "data": {
      "image/png": "[encoded data removed]",
      "text/plain": [
       "<Figure size 400x200 with 1 Axes>"
      ]
     },
     "metadata": {},
     "output_type": "display_data"
    }
   ],
   "source": [
    "plt.figure(figsize=(4, 2))\n",
    "plt.plot(x, y, '.')\n",
    "plt.plot(x_points, y_points, '-r')"
   ]
  },
  {
   "cell_type": "markdown",
   "id": "89361a4b-cba7-4b80-9469-6fadb62f2e3a",
   "metadata": {},
   "source": [
    "## 2 degree polynomial"
   ]
  },
  {
   "cell_type": "code",
   "execution_count": 42,
   "id": "9caff74f-8b20-4574-97bd-1b59ada761a3",
   "metadata": {
    "execution": {
     "iopub.execute_input": "2024-09-24T17:50:37.609101Z",
     "iopub.status.busy": "2024-09-24T17:50:37.608472Z",
     "iopub.status.idle": "2024-09-24T17:50:37.613258Z",
     "shell.execute_reply": "2024-09-24T17:50:37.612052Z",
     "shell.execute_reply.started": "2024-09-24T17:50:37.609074Z"
    }
   },
   "outputs": [],
   "source": [
    "degree_2_fit = np.polyfit(x, y, 2)"
   ]
  },
  {
   "cell_type": "code",
   "execution_count": 43,
   "id": "38c7c623-929b-4df4-bfd7-75ab406ac852",
   "metadata": {
    "execution": {
     "iopub.execute_input": "2024-09-24T17:50:37.614901Z",
     "iopub.status.busy": "2024-09-24T17:50:37.614443Z",
     "iopub.status.idle": "2024-09-24T17:50:37.619030Z",
     "shell.execute_reply": "2024-09-24T17:50:37.618045Z",
     "shell.execute_reply.started": "2024-09-24T17:50:37.614870Z"
    }
   },
   "outputs": [],
   "source": [
    "degree_2_eq = np.poly1d(degree_2_fit)"
   ]
  },
  {
   "cell_type": "code",
   "execution_count": 44,
   "id": "2063c011-ed0e-4872-a773-5ee1a9637e37",
   "metadata": {
    "execution": {
     "iopub.execute_input": "2024-09-24T17:50:37.620687Z",
     "iopub.status.busy": "2024-09-24T17:50:37.620192Z",
     "iopub.status.idle": "2024-09-24T17:50:37.624875Z",
     "shell.execute_reply": "2024-09-24T17:50:37.623936Z",
     "shell.execute_reply.started": "2024-09-24T17:50:37.620663Z"
    }
   },
   "outputs": [
    {
     "name": "stdout",
     "output_type": "stream",
     "text": [
      "            2\n",
      "-4.958e-16 x + 1 x - 2.442e-15\n"
     ]
    }
   ],
   "source": [
    "print(degree_2_eq)"
   ]
  },
  {
   "cell_type": "code",
   "execution_count": 45,
   "id": "da399f22-94ec-49fc-a289-12c5eafbfd55",
   "metadata": {
    "execution": {
     "iopub.execute_input": "2024-09-24T17:50:37.629543Z",
     "iopub.status.busy": "2024-09-24T17:50:37.628686Z",
     "iopub.status.idle": "2024-09-24T17:50:37.635772Z",
     "shell.execute_reply": "2024-09-24T17:50:37.634773Z",
     "shell.execute_reply.started": "2024-09-24T17:50:37.629491Z"
    }
   },
   "outputs": [],
   "source": [
    "y_points = degree_2_eq(x_points)"
   ]
  },
  {
   "cell_type": "code",
   "execution_count": 46,
   "id": "c6eae0a0-1692-4cd3-a4fd-bf842b5aeca2",
   "metadata": {
    "execution": {
     "iopub.execute_input": "2024-09-24T17:50:37.637426Z",
     "iopub.status.busy": "2024-09-24T17:50:37.636948Z",
     "iopub.status.idle": "2024-09-24T17:50:37.746899Z",
     "shell.execute_reply": "2024-09-24T17:50:37.746184Z",
     "shell.execute_reply.started": "2024-09-24T17:50:37.637396Z"
    }
   },
   "outputs": [
    {
     "data": {
      "text/plain": [
       "[<matplotlib.lines.Line2D at 0x14c7af670>,\n",
       " <matplotlib.lines.Line2D at 0x14c7afcd0>]"
      ]
     },
     "execution_count": 46,
     "metadata": {},
     "output_type": "execute_result"
    },
    {
     "data": {
      "image/png": "[encoded data removed]",
      "text/plain": [
       "<Figure size 400x200 with 1 Axes>"
      ]
     },
     "metadata": {},
     "output_type": "display_data"
    }
   ],
   "source": [
    "plt.figure(figsize=(4, 2))\n",
    "plt.plot(x, y, '.', x_points, y_points, '-r')"
   ]
  }
 ],
 "metadata": {
  "kernelspec": {
   "display_name": "Python 3 (ipykernel)",
   "language": "python",
   "name": "python3"
  },
  "language_info": {
   "codemirror_mode": {
    "name": "ipython",
    "version": 3
   },
   "file_extension": ".py",
   "mimetype": "text/x-python",
   "name": "python",
   "nbconvert_exporter": "python",
   "pygments_lexer": "ipython3",
   "version": "3.10.14"
  }
 },
 "nbformat": 4,
 "nbformat_minor": 5
}
