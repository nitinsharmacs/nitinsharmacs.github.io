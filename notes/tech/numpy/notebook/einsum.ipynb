{
 "cells": [
  {
   "cell_type": "code",
   "execution_count": 1,
   "id": "93016d5a",
   "metadata": {},
   "outputs": [],
   "source": [
    "import numpy as np"
   ]
  },
  {
   "cell_type": "code",
   "execution_count": 15,
   "id": "10046435",
   "metadata": {},
   "outputs": [],
   "source": [
    "a = np.array([1, 2, 3])\n",
    "b = np.array([4, 5, 6])\n",
    "\n",
    "A = np.array([\n",
    "    [1, 2],\n",
    "    [3, 4],\n",
    "])\n",
    "\n",
    "B = np.array([\n",
    "    [5, 6],\n",
    "    [7, 8],\n",
    "])"
   ]
  },
  {
   "cell_type": "markdown",
   "id": "30d289d1",
   "metadata": {},
   "source": [
    "#### Matrix multiplication"
   ]
  },
  {
   "cell_type": "code",
   "execution_count": 4,
   "id": "3339a88d",
   "metadata": {},
   "outputs": [
    {
     "name": "stdout",
     "output_type": "stream",
     "text": [
      "32\n",
      "[[19 22]\n",
      " [43 50]]\n"
     ]
    }
   ],
   "source": [
    "print(a @ b)\n",
    "print(A @ B)"
   ]
  },
  {
   "cell_type": "code",
   "execution_count": 10,
   "id": "77777128",
   "metadata": {},
   "outputs": [
    {
     "name": "stdout",
     "output_type": "stream",
     "text": [
      "32\n",
      "[[19 22]\n",
      " [43 50]]\n"
     ]
    }
   ],
   "source": [
    "print(np.einsum(\"i,i\", a, b))\n",
    "print(np.einsum(\"ij,jk->ik\", A, B))"
   ]
  },
  {
   "cell_type": "markdown",
   "id": "192869c0",
   "metadata": {},
   "source": [
    "#### Trace (Sum of product of diagnal values)"
   ]
  },
  {
   "cell_type": "code",
   "execution_count": 18,
   "id": "6cb0c8c0",
   "metadata": {},
   "outputs": [
    {
     "name": "stdout",
     "output_type": "stream",
     "text": [
      "5\n",
      "5\n"
     ]
    }
   ],
   "source": [
    "print(np.trace(A))\n",
    "print(np.einsum(\"ii->\", A))"
   ]
  },
  {
   "cell_type": "code",
   "execution_count": null,
   "id": "a1517c86",
   "metadata": {},
   "outputs": [],
   "source": []
  },
  {
   "cell_type": "markdown",
   "id": "d7dc9135",
   "metadata": {},
   "source": [
    "#### Get diagnal"
   ]
  },
  {
   "cell_type": "code",
   "execution_count": 20,
   "id": "ce422ad7",
   "metadata": {},
   "outputs": [
    {
     "name": "stdout",
     "output_type": "stream",
     "text": [
      "[1 4]\n",
      "[1 4]\n"
     ]
    }
   ],
   "source": [
    "print(np.diag(A))\n",
    "print(np.einsum(\"ii->i\", A))"
   ]
  },
  {
   "cell_type": "markdown",
   "id": "7891297f",
   "metadata": {},
   "source": [
    "#### Sum over an axis"
   ]
  },
  {
   "cell_type": "code",
   "execution_count": 23,
   "id": "4c413dcb",
   "metadata": {},
   "outputs": [
    {
     "data": {
      "text/plain": [
       "array([[1, 2],\n",
       "       [3, 4]])"
      ]
     },
     "execution_count": 23,
     "metadata": {},
     "output_type": "execute_result"
    }
   ],
   "source": [
    "A"
   ]
  },
  {
   "cell_type": "code",
   "execution_count": 7,
   "id": "37df8f41",
   "metadata": {},
   "outputs": [
    {
     "name": "stdout",
     "output_type": "stream",
     "text": [
      "[4 6]\n",
      "[4 6]\n",
      "[4 6]\n"
     ]
    }
   ],
   "source": [
    "print(np.sum(A, axis=0))\n",
    "print(np.einsum(\"ij->j\", A))\n",
    "\n",
    "## Under the hood\n",
    "result = np.zeros((A.shape[1]), dtype=A.dtype)\n",
    "for j in range(A.shape[1]):\n",
    "    for i in range(A.shape[0]):\n",
    "        result[j] = result[j] + A[i, j]\n",
    "print(result)"
   ]
  },
  {
   "cell_type": "markdown",
   "id": "5c8586f3",
   "metadata": {},
   "source": [
    "### View as result\n",
    "\n",
    "`np.einsum` returns view of the array which is writable. "
   ]
  },
  {
   "cell_type": "code",
   "execution_count": 10,
   "id": "2068bf7d",
   "metadata": {},
   "outputs": [
    {
     "data": {
      "text/plain": [
       "array([[1, 2],\n",
       "       [3, 1]])"
      ]
     },
     "execution_count": 10,
     "metadata": {},
     "output_type": "execute_result"
    }
   ],
   "source": [
    "np.einsum(\"ii->i\", A)[...] = 1\n",
    "A"
   ]
  },
  {
   "cell_type": "code",
   "execution_count": 17,
   "id": "6c3a785c",
   "metadata": {},
   "outputs": [
    {
     "name": "stdout",
     "output_type": "stream",
     "text": [
      "[[19 43]\n",
      " [22 50]]\n",
      "[[19 22]\n",
      " [43 50]]\n"
     ]
    }
   ],
   "source": [
    "print(np.einsum(\"cd,da\", A, B))\n",
    "print(np.einsum(\"ij,jk\", A, B))\n"
   ]
  },
  {
   "cell_type": "markdown",
   "id": "123bc112",
   "metadata": {},
   "source": [
    "#### Tensor contraction\n",
    "\n",
    "$$\n",
    "\\text{out}_{kl} = \\sum_{i,j} a_{ijk} \\cdot b_{jil}\n",
    "$$"
   ]
  },
  {
   "cell_type": "code",
   "execution_count": 43,
   "id": "606a14ae",
   "metadata": {},
   "outputs": [
    {
     "name": "stdout",
     "output_type": "stream",
     "text": [
      "[[4400. 4730.]\n",
      " [4532. 4874.]\n",
      " [4664. 5018.]\n",
      " [4796. 5162.]\n",
      " [4928. 5306.]]\n",
      "[[4400. 4730.]\n",
      " [4532. 4874.]\n",
      " [4664. 5018.]\n",
      " [4796. 5162.]\n",
      " [4928. 5306.]]\n"
     ]
    }
   ],
   "source": [
    "a = np.arange(60.).reshape(3,4,5)\n",
    "b = np.arange(24.).reshape(4,3,2)\n",
    "\n",
    "print(np.einsum('ijk,jil', a, b))\n",
    "## Using loops\n",
    "\n",
    "result = np.zeros((5, 2))\n",
    "\n",
    "for k in range(a.shape[-1]):\n",
    "    for l in range(b.shape[-1]):\n",
    "        for i in range(a.shape[0]):\n",
    "            for j in range(a.shape[1]):\n",
    "                result[k, l] += a[i,j,k] * b[j, i, l]\n",
    "print(result)"
   ]
  },
  {
   "cell_type": "markdown",
   "id": "f8a04b4d",
   "metadata": {},
   "source": [
    "### Optimizations"
   ]
  },
  {
   "cell_type": "code",
   "execution_count": 21,
   "id": "2acb45ad",
   "metadata": {},
   "outputs": [],
   "source": [
    "a = np.ones(64).reshape(2,4,8)"
   ]
  },
  {
   "cell_type": "code",
   "execution_count": 41,
   "id": "9fccc7ce",
   "metadata": {},
   "outputs": [],
   "source": [
    "path = np.einsum_path('ijk,ilm,njm,nlk,abc->',a,a,a,a,a, optimize=\"optimal\")[0]\n",
    "\n",
    "for iteration in range(10000):\n",
    "    _ = np.einsum('ijk,ilm,njm,nlk,abc->',a,a,a,a,a, optimize=path)"
   ]
  }
 ],
 "metadata": {
  "kernelspec": {
   "display_name": "spec_line_sandbox",
   "language": "python",
   "name": "python3"
  },
  "language_info": {
   "codemirror_mode": {
    "name": "ipython",
    "version": 3
   },
   "file_extension": ".py",
   "mimetype": "text/x-python",
   "name": "python",
   "nbconvert_exporter": "python",
   "pygments_lexer": "ipython3",
   "version": "3.10.14"
  }
 },
 "nbformat": 4,
 "nbformat_minor": 5
}
